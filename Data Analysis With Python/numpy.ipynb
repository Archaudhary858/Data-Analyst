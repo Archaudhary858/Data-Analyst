{
 "cells": [
  {
   "cell_type": "code",
   "execution_count": 7,
   "id": "86e3817b",
   "metadata": {},
   "outputs": [
    {
     "name": "stdout",
     "output_type": "stream",
     "text": [
      "Requirement already satisfied: numpy in c:\\users\\archa\\onedrive\\desktop\\data analyst\\venv\\lib\\site-packages (2.3.2)\n"
     ]
    }
   ],
   "source": [
    "!pip install numpy\n"
   ]
  },
  {
   "cell_type": "code",
   "execution_count": 8,
   "id": "67bd8191",
   "metadata": {},
   "outputs": [
    {
     "name": "stdout",
     "output_type": "stream",
     "text": [
      "[1 2 3 4 5]\n",
      "<class 'numpy.ndarray'>\n",
      "(5,)\n"
     ]
    }
   ],
   "source": [
    "import numpy as np\n",
    "\n",
    "## create array using numpy\n",
    "## Create a 1D array\n",
    "\n",
    "arr1 = np.array([1,2,3,4,5])\n",
    "print(arr1)\n",
    "print(type(arr1))\n",
    "print(arr1.shape) # Single dimension with 5 elements\n",
    "\n"
   ]
  },
  {
   "cell_type": "code",
   "execution_count": 9,
   "id": "1f3e1355",
   "metadata": {},
   "outputs": [
    {
     "data": {
      "text/plain": [
       "array([[1, 2, 3, 4, 5]])"
      ]
     },
     "execution_count": 9,
     "metadata": {},
     "output_type": "execute_result"
    }
   ],
   "source": [
    "arr2 = np.array([1,2,3,4,5])\n",
    "arr2.reshape(1,5) ## This become 2D array\n"
   ]
  },
  {
   "cell_type": "code",
   "execution_count": 10,
   "id": "e8d300b1",
   "metadata": {},
   "outputs": [
    {
     "name": "stdout",
     "output_type": "stream",
     "text": [
      "[[1 2 3 4 5]\n",
      " [2 3 4 5 6]]\n",
      "(2, 5)\n"
     ]
    }
   ],
   "source": [
    "## 2D Arrays\n",
    "\n",
    "arr2 = np.array([[1,2,3,4,5],[2,3,4,5,6]])\n",
    "print(arr2)\n",
    "print(arr2.shape)"
   ]
  },
  {
   "cell_type": "code",
   "execution_count": 11,
   "id": "daf91db9",
   "metadata": {},
   "outputs": [
    {
     "data": {
      "text/plain": [
       "array([[0],\n",
       "       [2],\n",
       "       [4],\n",
       "       [6],\n",
       "       [8]])"
      ]
     },
     "execution_count": 11,
     "metadata": {},
     "output_type": "execute_result"
    }
   ],
   "source": [
    "np.arange(0,10,2).reshape(5,1)"
   ]
  },
  {
   "cell_type": "code",
   "execution_count": 12,
   "id": "ba748fe4",
   "metadata": {},
   "outputs": [
    {
     "data": {
      "text/plain": [
       "array([[1., 1., 1., 1.],\n",
       "       [1., 1., 1., 1.],\n",
       "       [1., 1., 1., 1.]])"
      ]
     },
     "execution_count": 12,
     "metadata": {},
     "output_type": "execute_result"
    }
   ],
   "source": [
    "np.ones((3,4))"
   ]
  },
  {
   "cell_type": "code",
   "execution_count": 13,
   "id": "31ac239a",
   "metadata": {},
   "outputs": [
    {
     "data": {
      "text/plain": [
       "array([[1., 0., 0.],\n",
       "       [0., 1., 0.],\n",
       "       [0., 0., 1.]])"
      ]
     },
     "execution_count": 13,
     "metadata": {},
     "output_type": "execute_result"
    }
   ],
   "source": [
    "## Identity matrix\n",
    "\n",
    "np.eye(3)"
   ]
  },
  {
   "cell_type": "code",
   "execution_count": 14,
   "id": "99a32fcf",
   "metadata": {},
   "outputs": [
    {
     "name": "stdout",
     "output_type": "stream",
     "text": [
      "Array:\n",
      " [[1 2 3 4]\n",
      " [5 6 7 8]]\n",
      "Shape: (2, 4)\n",
      "Number of dimensions: 2\n",
      "Size (number of elements): 8\n",
      "Data Type: int64\n",
      "Item size (in bytes): 8\n"
     ]
    }
   ],
   "source": [
    "##Attributes of arrays\n",
    "arr= np.array([[1,2,3,4],[5,6,7,8]])\n",
    "\n",
    "print(\"Array:\\n\",arr)\n",
    "print(\"Shape:\",arr.shape)\n",
    "print(\"Number of dimensions:\",arr.ndim)\n",
    "print(\"Size (number of elements):\",arr.size)\n",
    "print(\"Data Type:\",arr.dtype)\n",
    "print(\"Item size (in bytes):\",arr.itemsize)"
   ]
  },
  {
   "cell_type": "code",
   "execution_count": 15,
   "id": "3a2a791a",
   "metadata": {},
   "outputs": [
    {
     "name": "stdout",
     "output_type": "stream",
     "text": [
      "Addition [11 22 33 44 55]\n",
      "Substraction: [ -9 -18 -27 -36 -45]\n"
     ]
    }
   ],
   "source": [
    "## Numpy vectorised operations\n",
    "arr1=np.array([1,2,3,4,5])\n",
    "arr2=np.array([10,20,30,40,50]) ## size should be same of both the arrays\n",
    "\n",
    "# Elements wise addition\n",
    "print(\"Addition\",arr1+arr2)\n",
    "\n",
    "#Subsytaction\n",
    "print(\"Substraction:\",arr1-arr2)"
   ]
  },
  {
   "cell_type": "code",
   "execution_count": 16,
   "id": "0233a90f",
   "metadata": {},
   "outputs": [
    {
     "name": "stdout",
     "output_type": "stream",
     "text": [
      "[1.41421356 1.73205081 2.         2.23606798 2.44948974]\n",
      "[  7.3890561   20.08553692  54.59815003 148.4131591  403.42879349]\n"
     ]
    }
   ],
   "source": [
    "## Universal function\n",
    "arr = np.array([2,3,4,5,6])\n",
    "\n",
    "#square root\n",
    "print(np.sqrt(arr))\n",
    "\n",
    "#exponential\n",
    "print(np.exp(arr))"
   ]
  },
  {
   "cell_type": "code",
   "execution_count": 17,
   "id": "6f9d5ed6",
   "metadata": {},
   "outputs": [
    {
     "name": "stdout",
     "output_type": "stream",
     "text": [
      "Array : \n",
      " [[ 1  2  3  4]\n",
      " [ 5  6  7  8]\n",
      " [ 9 10 11 12]]\n"
     ]
    }
   ],
   "source": [
    "## Array slicing and indexing\n",
    "\n",
    "arr = np.array([[1,2,3,4],[5,6,7,8],[9,10,11,12]])\n",
    "print(\"Array : \\n\",arr)\n"
   ]
  },
  {
   "cell_type": "code",
   "execution_count": 33,
   "id": "cc8871e1",
   "metadata": {},
   "outputs": [
    {
     "name": "stdout",
     "output_type": "stream",
     "text": [
      "[[ 6  7]\n",
      " [10 11]]\n"
     ]
    }
   ],
   "source": [
    "print(arr[1:,1:3])"
   ]
  },
  {
   "cell_type": "code",
   "execution_count": 18,
   "id": "5ff5c8dc",
   "metadata": {},
   "outputs": [
    {
     "name": "stdout",
     "output_type": "stream",
     "text": [
      "4\n"
     ]
    }
   ],
   "source": [
    "element = arr[0][3]\n",
    "print(element)"
   ]
  },
  {
   "cell_type": "code",
   "execution_count": 21,
   "id": "1a3ff930",
   "metadata": {},
   "outputs": [
    {
     "data": {
      "text/plain": [
       "array([[ 7,  8],\n",
       "       [11, 12]])"
      ]
     },
     "execution_count": 21,
     "metadata": {},
     "output_type": "execute_result"
    }
   ],
   "source": [
    "arr[1:,2:]"
   ]
  },
  {
   "cell_type": "code",
   "execution_count": null,
   "id": "52343062",
   "metadata": {},
   "outputs": [
    {
     "name": "stdout",
     "output_type": "stream",
     "text": [
      "1\n",
      "[[3 4]\n",
      " [7 8]]\n"
     ]
    }
   ],
   "source": [
    "print(arr[0][0])\n",
    "print(arr[0:2,2:]) # row and column"
   ]
  },
  {
   "cell_type": "code",
   "execution_count": 34,
   "id": "2350b20c",
   "metadata": {},
   "outputs": [
    {
     "name": "stdout",
     "output_type": "stream",
     "text": [
      "[[100   2   3   4]\n",
      " [  5   6   7   8]\n",
      " [  9  10  11  12]]\n"
     ]
    }
   ],
   "source": [
    "## Modify the elements\n",
    "arr[0,0] = 100\n",
    "print(arr)"
   ]
  },
  {
   "cell_type": "code",
   "execution_count": 35,
   "id": "fd180060",
   "metadata": {},
   "outputs": [
    {
     "name": "stdout",
     "output_type": "stream",
     "text": [
      "[[100   2   3   4]\n",
      " [100 100 100 100]\n",
      " [100 100 100 100]]\n"
     ]
    }
   ],
   "source": [
    "arr[1:]=100\n",
    "print(arr)"
   ]
  },
  {
   "cell_type": "code",
   "execution_count": null,
   "id": "d8eb68c5",
   "metadata": {},
   "outputs": [
    {
     "name": "stdout",
     "output_type": "stream",
     "text": [
      "Normalised Data :  [-1.41421356 -0.70710678  0.          0.70710678  1.41421356]\n"
     ]
    }
   ],
   "source": [
    "##Statistical Concepts -> Normalisation (mean=0 , SD=1)\n",
    "# To have a mean of 0 and standard deviation\n",
    "data=np.array([1,2,3,4,5])\n",
    "\n",
    "mean=np.mean(data)\n",
    "std_dev = np.std(data)\n",
    "\n",
    "normalised_data = (data-mean)/std_dev\n",
    "print(\"Normalised Data : \",normalised_data)"
   ]
  },
  {
   "cell_type": "code",
   "execution_count": 43,
   "id": "32bb045f",
   "metadata": {},
   "outputs": [
    {
     "data": {
      "text/plain": [
       "array([5, 6, 7, 8])"
      ]
     },
     "execution_count": 43,
     "metadata": {},
     "output_type": "execute_result"
    }
   ],
   "source": [
    "## Logical Operations\n",
    "\n",
    "data=np.array([1,2,3,4,5,6,7,8,9,10])\n",
    "\n",
    "data[(data>=5) & (data<=8)]"
   ]
  },
  {
   "cell_type": "code",
   "execution_count": null,
   "id": "fb85e566",
   "metadata": {},
   "outputs": [],
   "source": []
  }
 ],
 "metadata": {
  "kernelspec": {
   "display_name": "Python 3",
   "language": "python",
   "name": "python3"
  },
  "language_info": {
   "codemirror_mode": {
    "name": "ipython",
    "version": 3
   },
   "file_extension": ".py",
   "mimetype": "text/x-python",
   "name": "python",
   "nbconvert_exporter": "python",
   "pygments_lexer": "ipython3",
   "version": "3.12.0"
  }
 },
 "nbformat": 4,
 "nbformat_minor": 5
}
