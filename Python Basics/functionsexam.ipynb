{
 "cells": [
  {
   "cell_type": "code",
   "execution_count": 6,
   "id": "db1af3b9",
   "metadata": {},
   "outputs": [
    {
     "data": {
      "text/plain": [
       "192.20000000000002"
      ]
     },
     "execution_count": 6,
     "metadata": {},
     "output_type": "execute_result"
    }
   ],
   "source": [
    "##Temperature Conversion\n",
    "\n",
    "def temp_convert(temp,unit):\n",
    "    if unit == 'F':\n",
    "     return (temp-32)/1.8\n",
    "    elif unit =='C':\n",
    "     return (temp*1.8)+32\n",
    "    else:\n",
    "      return None\n",
    "\n",
    "temp_convert(89,'C')\n"
   ]
  },
  {
   "cell_type": "code",
   "execution_count": 7,
   "id": "d98a4b69",
   "metadata": {},
   "outputs": [
    {
     "name": "stdout",
     "output_type": "stream",
     "text": [
      "False\n",
      "True\n"
     ]
    }
   ],
   "source": [
    "#Password Strength Checker\n",
    "\n",
    "def is_strong_password(password):\n",
    "    if len(password)<8:\n",
    "        return False\n",
    "    if not any(char.isdigit() for char in password):\n",
    "        return False\n",
    "    if not any(char.islower() for char in password):\n",
    "        return False\n",
    "    if not any(char.isupper() for char in password):\n",
    "        return False\n",
    "    if not any(char in '!@#$%^&*()_+' for char in password):\n",
    "        return False\n",
    "    return True\n",
    "\n",
    "print(is_strong_password(\"WeakPwd\"))\n",
    "print(is_strong_password(\"Abhay@123\"))\n",
    "\n",
    "\n"
   ]
  },
  {
   "cell_type": "code",
   "execution_count": 16,
   "id": "67d8d47d",
   "metadata": {},
   "outputs": [
    {
     "name": "stdout",
     "output_type": "stream",
     "text": [
      "5.8999999999999995\n"
     ]
    }
   ],
   "source": [
    "##Total cost of items in a shopping cart\n",
    "\n",
    "def total_cost(cart):\n",
    "     total_cost=0\n",
    "     for item in cart:\n",
    "          total_cost+=item['price']*item['quantity']\n",
    "\n",
    "     return total_cost\n",
    "\n",
    "cart=[\n",
    "     {'name' : 'Apple','price':0.5,'quantity':4},\n",
    "     {'name' : 'Mango','price':0.3,'quantity':6},\n",
    "     {'name' : 'Orange','price':0.7,'quantity':3},\n",
    "]\n",
    "\n",
    "total_costans = total_cost(cart)\n",
    "print(total_costans)\n",
    "\n"
   ]
  },
  {
   "cell_type": "code",
   "execution_count": 18,
   "id": "96fb1c32",
   "metadata": {},
   "outputs": [
    {
     "name": "stdout",
     "output_type": "stream",
     "text": [
      "True\n",
      "False\n"
     ]
    }
   ],
   "source": [
    "##Palindrome of a string\n",
    "def palindrome(s):\n",
    "   s=s.lower().replace(\" \",\"\")\n",
    "   return s==s[::-1]\n",
    "\n",
    "print(palindrome(\"aba\"))\n",
    "print(palindrome(\"halo\"))"
   ]
  },
  {
   "cell_type": "code",
   "execution_count": 21,
   "id": "c8d72166",
   "metadata": {},
   "outputs": [
    {
     "data": {
      "text/plain": [
       "120"
      ]
     },
     "execution_count": 21,
     "metadata": {},
     "output_type": "execute_result"
    }
   ],
   "source": [
    "##Factorial using recursion\n",
    "\n",
    "def fact(num):\n",
    "    if num==0:\n",
    "        return 1\n",
    "    else:\n",
    "       return num*fact(num-1)\n",
    "\n",
    "fact(5)"
   ]
  },
  {
   "cell_type": "code",
   "execution_count": null,
   "id": "2d735f53",
   "metadata": {},
   "outputs": [
    {
     "name": "stdout",
     "output_type": "stream",
     "text": [
      "{'hello': 1, 'world': 1, 'how': 1, 'are': 1, 'you': 1, 'my': 1, 'name': 1, 'is': 1, 'abhay': 1}\n"
     ]
    }
   ],
   "source": [
    "##Read a file and count frequency of each word\n",
    "\n",
    "\n",
    "def count_word_frequency(file_path):\n",
    "    word_count = {}\n",
    "    with open(file_path,'r') as file:\n",
    "        for line in file:\n",
    "            words = line.split()\n",
    "            for word in words:\n",
    "                word=word.lower().strip('.,!?;:\"\\'')#remove this characters\n",
    "                word_count[word]=word_count.get(word,0)+1\n",
    "    return word_count\n",
    "\n",
    "filepath= \"sample.txt\"\n",
    "wordfrew = count_word_frequency(filepath)\n",
    "print(wordfrew)\n",
    "##Step-by-step logic\n",
    "#word_count = {}\n",
    "\n",
    "##Creates an empty dictionary to store each word as a key and its frequency (count) as the value.\n",
    "\n",
    "#with open(file_path, 'r') as file:\n",
    "\n",
    "#Opens the file in read mode.\n",
    "\n",
    "#The with statement automatically closes the file after use.\n",
    "\n",
    "#for line in file:\n",
    "\n",
    "#Reads the file line-by-line to handle large files efficiently.\n",
    "\n",
    "#words = line.split()\n",
    "\n",
    "#Splits the line into words using spaces as the separator.\n",
    "\n",
    "##Inside the loop over words:\n",
    "\n",
    "#word.lower() → makes it lowercase so that \"Hello\" and \"hello\" are treated the same.\n",
    "\n",
    "#.strip('.,!?;:\"\\'') → removes punctuation from the start and end of the word.\n",
    "#Example: \"Hello,\" → \"hello\"\n",
    "\n",
    "#word_count[word] = word_count.get(word, 0) + 1\n",
    "\n",
    "#word_count.get(word, 0) returns the current count for word or 0 if it’s not in the dictionary yet.\n",
    "\n",
    "#Adds 1 to that count and updates the dictionary.\n",
    "\n",
    "#return word_count\n",
    "\n",
    "#After reading the whole file, returns the dictionary containing word frequencies.\n",
    "\n",
    "\n"
   ]
  },
  {
   "cell_type": "code",
   "execution_count": null,
   "id": "8d7f13a8",
   "metadata": {},
   "outputs": [
    {
     "name": "stdout",
     "output_type": "stream",
     "text": [
      "True\n",
      "False\n"
     ]
    }
   ],
   "source": [
    "#Validate the email address\n",
    "import re\n",
    "def is_valid_email(email):\n",
    "    pattern = r'^[a-zA-Z0-9_.+-]+@[a-zA-Z0-9-]+\\.[a-zA-Z0-9-.]+$'# $ -> end of a string\n",
    "    return re.match(pattern,email) is not None\n",
    "#username+domain name+domian extension(.com)\n",
    "print(is_valid_email(\"test@ecample.com\"))\n",
    "print(is_valid_email(\"invalid-email\"))\n"
   ]
  },
  {
   "cell_type": "code",
   "execution_count": null,
   "id": "7484ff54",
   "metadata": {},
   "outputs": [],
   "source": []
  }
 ],
 "metadata": {
  "kernelspec": {
   "display_name": "Python 3",
   "language": "python",
   "name": "python3"
  },
  "language_info": {
   "codemirror_mode": {
    "name": "ipython",
    "version": 3
   },
   "file_extension": ".py",
   "mimetype": "text/x-python",
   "name": "python",
   "nbconvert_exporter": "python",
   "pygments_lexer": "ipython3",
   "version": "3.12.0"
  }
 },
 "nbformat": 4,
 "nbformat_minor": 5
}
