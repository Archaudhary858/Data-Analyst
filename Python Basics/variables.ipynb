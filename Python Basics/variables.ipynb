{
 "cells": [
  {
   "cell_type": "code",
   "execution_count": 1,
   "id": "d8fd2a87",
   "metadata": {},
   "outputs": [
    {
     "name": "stdout",
     "output_type": "stream",
     "text": [
      "age :  21\n",
      "Height:  6\n",
      "Name:  Abhay\n"
     ]
    }
   ],
   "source": [
    "##declaring and assigning variables \n",
    "\n",
    "age=21\n",
    "height=6\n",
    "name=\"Abhay\"\n",
    "is_student = True\n",
    "\n",
    "##printing the varibles\n",
    "\n",
    "print(\"age : \",age)\n",
    "print(\"Height: \",height)\n",
    "print(\"Name: \",name)"
   ]
  },
  {
   "cell_type": "code",
   "execution_count": null,
   "id": "2978a763",
   "metadata": {},
   "outputs": [],
   "source": [
    "##naming conventions \n",
    "##variavle names should be descriptive\n",
    "## They must start with a letter or an '_' and contains letters,numbers and underscores\n",
    "##variables names is case sensitive\n",
    "\n",
    "first_name = \"Abhay\"\n",
    "last_name = \"Raj\"\n"
   ]
  },
  {
   "cell_type": "code",
   "execution_count": 6,
   "id": "bf777d2f",
   "metadata": {},
   "outputs": [
    {
     "name": "stdout",
     "output_type": "stream",
     "text": [
      "<class 'int'>\n"
     ]
    }
   ],
   "source": [
    "##understanding variable types \n",
    "## Pythin is dynamically typed, types of a variable is determined at runtime\n",
    "\n",
    "age = 23\n",
    "height=5.1\n",
    "name=\"Abhay\"\n",
    "\n",
    "print(type(age))"
   ]
  },
  {
   "cell_type": "code",
   "execution_count": 7,
   "id": "c0bac321",
   "metadata": {},
   "outputs": [
    {
     "data": {
      "text/plain": [
       "float"
      ]
     },
     "execution_count": 7,
     "metadata": {},
     "output_type": "execute_result"
    }
   ],
   "source": [
    "##type checking and conversion\n",
    "\n",
    "type(height)"
   ]
  },
  {
   "cell_type": "code",
   "execution_count": null,
   "id": "b7846837",
   "metadata": {},
   "outputs": [
    {
     "name": "stdout",
     "output_type": "stream",
     "text": [
      "<class 'int'>\n",
      "25\n",
      "<class 'str'>\n"
     ]
    }
   ],
   "source": [
    "age=25\n",
    "print(type(age))\n",
    "\n",
    "##type conversion\n",
    "age_str = str(age)\n",
    "print(age_str)\n",
    "print(type(age_str))"
   ]
  },
  {
   "cell_type": "code",
   "execution_count": 10,
   "id": "5cffde28",
   "metadata": {},
   "outputs": [
    {
     "data": {
      "text/plain": [
       "float"
      ]
     },
     "execution_count": 10,
     "metadata": {},
     "output_type": "execute_result"
    }
   ],
   "source": [
    "height=5.12\n",
    "type(height)"
   ]
  },
  {
   "cell_type": "code",
   "execution_count": 11,
   "id": "a5b7c410",
   "metadata": {},
   "outputs": [
    {
     "data": {
      "text/plain": [
       "5"
      ]
     },
     "execution_count": 11,
     "metadata": {},
     "output_type": "execute_result"
    }
   ],
   "source": [
    "int(height)"
   ]
  },
  {
   "cell_type": "code",
   "execution_count": 12,
   "id": "96568df6",
   "metadata": {},
   "outputs": [
    {
     "data": {
      "text/plain": [
       "5.0"
      ]
     },
     "execution_count": 12,
     "metadata": {},
     "output_type": "execute_result"
    }
   ],
   "source": [
    "float(int(height))"
   ]
  },
  {
   "cell_type": "code",
   "execution_count": 13,
   "id": "7e4e6141",
   "metadata": {},
   "outputs": [
    {
     "name": "stdout",
     "output_type": "stream",
     "text": [
      "10 <class 'int'>\n",
      "Hello <class 'str'>\n"
     ]
    }
   ],
   "source": [
    "#Dynamic Typing\n",
    "#Python allows the type of variable to change as the program executes\n",
    "\n",
    "var=10\n",
    "print(var,type(var))\n",
    "\n",
    "var=\"Hello\"\n",
    "print(var,type(var))\n"
   ]
  },
  {
   "cell_type": "code",
   "execution_count": null,
   "id": "25ed3799",
   "metadata": {},
   "outputs": [
    {
     "name": "stdout",
     "output_type": "stream",
     "text": [
      "23 <class 'int'>\n"
     ]
    }
   ],
   "source": [
    "#input\n",
    "\n",
    "age=int(input(\"What is the age : \")) #typecast the string into integer\n",
    "print(age,type(age))"
   ]
  },
  {
   "cell_type": "code",
   "execution_count": null,
   "id": "1ba07d4c",
   "metadata": {},
   "outputs": [
    {
     "name": "stdout",
     "output_type": "stream",
     "text": [
      "Sum : 11.0\n",
      "Difference : -1.0\n",
      "Product : 30.0\n",
      "Quotient : 0.8333333333333334\n"
     ]
    }
   ],
   "source": [
    "## Simple Calculator\n",
    "\n",
    "num1 = float(input(\"Enter first number : \"))\n",
    "num2 = float(input(\"Enter second number : \"))\n",
    "\n",
    "sum=num1+num2\n",
    "difference = num1-num2\n",
    "product = num1*num2\n",
    "quotient = num1/num2\n",
    "\n",
    "print(\"Sum :\",sum)\n",
    "print(\"Difference :\",difference)\n",
    "print(\"Product :\",product)\n",
    "print(\"Quotient :\",quotient)\n"
   ]
  },
  {
   "cell_type": "code",
   "execution_count": null,
   "id": "dfbcd82d",
   "metadata": {},
   "outputs": [],
   "source": []
  }
 ],
 "metadata": {
  "kernelspec": {
   "display_name": "Python 3",
   "language": "python",
   "name": "python3"
  },
  "language_info": {
   "codemirror_mode": {
    "name": "ipython",
    "version": 3
   },
   "file_extension": ".py",
   "mimetype": "text/x-python",
   "name": "python",
   "nbconvert_exporter": "python",
   "pygments_lexer": "ipython3",
   "version": "3.12.0"
  }
 },
 "nbformat": 4,
 "nbformat_minor": 5
}
