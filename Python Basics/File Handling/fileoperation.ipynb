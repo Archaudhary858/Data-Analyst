{
 "cells": [
  {
   "cell_type": "code",
   "execution_count": 2,
   "id": "7d90eeac",
   "metadata": {},
   "outputs": [
    {
     "name": "stdout",
     "output_type": "stream",
     "text": [
      "hello\n",
      "how are you \n",
      "i am good\n"
     ]
    }
   ],
   "source": [
    "##Read a whole file\n",
    "\n",
    "with open('example.txt','r') as file:\n",
    "    content = file.read()\n",
    "    print(content)"
   ]
  },
  {
   "cell_type": "code",
   "execution_count": 4,
   "id": "10113125",
   "metadata": {},
   "outputs": [
    {
     "name": "stdout",
     "output_type": "stream",
     "text": [
      "hello\n",
      "how are you\n",
      "i am good\n"
     ]
    }
   ],
   "source": [
    "##Read a file line by line \n",
    "with open('example.txt','r') as file:\n",
    "    for line in file:\n",
    "        print(line.strip())"
   ]
  },
  {
   "cell_type": "code",
   "execution_count": 8,
   "id": "238ddf64",
   "metadata": {},
   "outputs": [],
   "source": [
    "##Writing a file\n",
    "\n",
    "with open('example.txt','w') as file:\n",
    "    file.write('Hello World\\n')\n",
    "    file.write('This is a new line\\n')\n"
   ]
  },
  {
   "cell_type": "code",
   "execution_count": 9,
   "id": "92b4e9c1",
   "metadata": {},
   "outputs": [],
   "source": [
    "## Write a file without overrighting\n",
    "\n",
    "with open ('example.txt','a') as file:\n",
    "    file.write('Append operation is taking place')\n",
    "\n",
    "\n"
   ]
  },
  {
   "cell_type": "code",
   "execution_count": null,
   "id": "7c6294ea",
   "metadata": {},
   "outputs": [],
   "source": [
    "##Writing a list of lines to a file\n",
    "lines = ['first line \\n','Second line \\n','Third line \\n']\n",
    "\n",
    "with open('example.txt','a') as file:\n",
    "    file.writelines(lines)\n",
    "    "
   ]
  },
  {
   "cell_type": "code",
   "execution_count": 11,
   "id": "83bed2ad",
   "metadata": {},
   "outputs": [],
   "source": [
    "##Binary Files\n",
    "\n",
    "data = b'\\x00\\x01\\x02\\x03\\x04'\n",
    "with open('example.bin','wb') as file:\n",
    "    file.write(data)\n"
   ]
  },
  {
   "cell_type": "code",
   "execution_count": 12,
   "id": "c8325f30",
   "metadata": {},
   "outputs": [
    {
     "name": "stdout",
     "output_type": "stream",
     "text": [
      "b'\\x00\\x01\\x02\\x03\\x04'\n"
     ]
    }
   ],
   "source": [
    "#Reading a binary file\n",
    "with open('example.bin','rb') as file:\n",
    "    content = file.read()\n",
    "    print(content)"
   ]
  },
  {
   "cell_type": "code",
   "execution_count": 14,
   "id": "d06fd946",
   "metadata": {},
   "outputs": [],
   "source": [
    "## Read the content from source text file and write to a destination text file\n",
    "#Copying a text file\n",
    "\n",
    "with open('example.txt','r') as source_file:\n",
    "    content = source_file.read()\n",
    "\n",
    "with open('destination.txt','w') as destination_file:\n",
    "    destination_file.write(content)\n"
   ]
  },
  {
   "cell_type": "code",
   "execution_count": 16,
   "id": "764c501b",
   "metadata": {},
   "outputs": [
    {
     "name": "stdout",
     "output_type": "stream",
     "text": [
      "Line count : 6,Word count :7,Char count : 111\n"
     ]
    }
   ],
   "source": [
    "#Read a text file and count the number of lines , words,characters\n",
    "\n",
    "\n",
    "def count_file(file_path):\n",
    "    with open(file_path,'r') as file:\n",
    "        lines = file.readlines() ##convert whole file into list\n",
    "        line_count = len(lines) ##length of the line\n",
    "        word_count = sum(len(line.split()) for line in line)##split function turns each line into a list of words\n",
    "        char_count = sum(len(line) for line in lines)\n",
    "    return line_count,word_count,char_count\n",
    "    \n",
    "file_path='example.txt'\n",
    "line_count,word_count,char_count = count_file(file_path)\n",
    "print(f'Line count : {line_count},Word count :{word_count},Char count : {char_count}')\n"
   ]
  },
  {
   "cell_type": "code",
   "execution_count": null,
   "id": "d6a4541d",
   "metadata": {},
   "outputs": [
    {
     "name": "stdout",
     "output_type": "stream",
     "text": [
      "Hello World\n",
      "This is a new line \n",
      "\n"
     ]
    }
   ],
   "source": [
    "##Writing and then reading a file\n",
    "\n",
    "with open('example.txt','w+') as file:\n",
    "    file.write(\"Hello World\\n\")\n",
    "    file.write(\"This is a new line \\n\")\n",
    "\n",
    "    ##Move the file cursor to the beginning,without this we cannot see writing part\n",
    "    file.seek(0)\n",
    "\n",
    "    ##Read the content of the file\n",
    "    content = file.read()\n",
    "    print(content)"
   ]
  },
  {
   "cell_type": "code",
   "execution_count": null,
   "id": "0691e365",
   "metadata": {},
   "outputs": [],
   "source": []
  }
 ],
 "metadata": {
  "kernelspec": {
   "display_name": "Python 3",
   "language": "python",
   "name": "python3"
  },
  "language_info": {
   "codemirror_mode": {
    "name": "ipython",
    "version": 3
   },
   "file_extension": ".py",
   "mimetype": "text/x-python",
   "name": "python",
   "nbconvert_exporter": "python",
   "pygments_lexer": "ipython3",
   "version": "3.12.0"
  }
 },
 "nbformat": 4,
 "nbformat_minor": 5
}
