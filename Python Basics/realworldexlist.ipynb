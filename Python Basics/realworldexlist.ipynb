{
 "cells": [
  {
   "cell_type": "code",
   "execution_count": 1,
   "id": "d0d54510",
   "metadata": {},
   "outputs": [
    {
     "name": "stdout",
     "output_type": "stream",
     "text": [
      "Dont forget to pay the utility bills\n",
      "To Do List Reamaining\n",
      "Buy Groceries\n",
      "Pay Bills\n",
      "Meeting\n",
      "Go for a run\n"
     ]
    }
   ],
   "source": [
    "#Create a To Do List To Keep Track Of Tasks\n",
    "\n",
    "to_do_list = [\"Buy Groceries\",\"Clean the room\",\"Pay Bills\"]\n",
    "\n",
    "##Adding the task\n",
    "to_do_list.append(\"Meeting\")\n",
    "to_do_list.append(\"Go for a run\")\n",
    "\n",
    "##Removing a completed task\n",
    "to_do_list.remove(\"Clean the room\")\n",
    "\n",
    "##Check if a task is in the list\n",
    "if \"Pay Bills\" in to_do_list:\n",
    "    print(\"Dont forget to pay the utility bills\")\n",
    "   \n",
    "print(\"To Do List Reamaining\")\n",
    "for task in to_do_list:\n",
    "    print(f\"{task}\")\n"
   ]
  },
  {
   "cell_type": "code",
   "execution_count": 2,
   "id": "d1bde83a",
   "metadata": {},
   "outputs": [
    {
     "name": "stdout",
     "output_type": "stream",
     "text": [
      "Average Grade:88.00\n",
      "Highest Grade: 95\n",
      "Lowest Grade : 78\n"
     ]
    }
   ],
   "source": [
    "##Organising Students Grades\n",
    "\n",
    "grades=[85,92,78,90,88]\n",
    "\n",
    "##Adding new grade\n",
    "grades.append(95)\n",
    "\n",
    "##Calculating the average grade\n",
    "average_grade = sum(grades)/len(grades)\n",
    "print(f\"Average Grade:{average_grade:.2f}\")\n",
    "\n",
    "#Finding the highest and lowest grades\n",
    "highest_grade = max(grades)\n",
    "lowest_grade = min(grades)\n",
    "print(f\"Highest Grade: {highest_grade}\")\n",
    "print(f\"Lowest Grade : {lowest_grade}\")"
   ]
  },
  {
   "cell_type": "code",
   "execution_count": 5,
   "id": "dd9064b0",
   "metadata": {},
   "outputs": [
    {
     "name": "stdout",
     "output_type": "stream",
     "text": [
      "oranges are in stock\n",
      "Inventory List:\n",
      "- apples\n",
      "- oranges\n",
      "- grapes\n",
      "- mango\n"
     ]
    }
   ],
   "source": [
    "##Managing a inventory\n",
    "inventory = [\"apples\",\"bananas\",\"oranges\",\"grapes\"]\n",
    "\n",
    "#Adding a new item\n",
    "inventory.append(\"mango\")\n",
    "\n",
    "#removing an item that is out of stock\n",
    "inventory.remove(\"bananas\")\n",
    "\n",
    "#checking if an item is in stock\n",
    "item = \"oranges\"\n",
    "if item in inventory:\n",
    "    print(f\"{item} are in stock\")\n",
    "else:\n",
    "    print(f\"{item} sre out of stock\")\n",
    "\n",
    "#Printing the inverntory\n",
    "print(\"Inventory List:\")\n",
    "for item in inventory:\n",
    "    print(f\"- {item}\")\n",
    "\n"
   ]
  },
  {
   "cell_type": "code",
   "execution_count": null,
   "id": "b6d4214c",
   "metadata": {},
   "outputs": [],
   "source": [
    " "
   ]
  }
 ],
 "metadata": {
  "kernelspec": {
   "display_name": "Python 3",
   "language": "python",
   "name": "python3"
  },
  "language_info": {
   "codemirror_mode": {
    "name": "ipython",
    "version": 3
   },
   "file_extension": ".py",
   "mimetype": "text/x-python",
   "name": "python",
   "nbconvert_exporter": "python",
   "pygments_lexer": "ipython3",
   "version": "3.12.0"
  }
 },
 "nbformat": 4,
 "nbformat_minor": 5
}
