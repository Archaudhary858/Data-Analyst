{
 "cells": [
  {
   "cell_type": "code",
   "execution_count": 3,
   "id": "6c69b1f8",
   "metadata": {},
   "outputs": [
    {
     "name": "stdout",
     "output_type": "stream",
     "text": [
      "15\n",
      "5\n",
      "50\n",
      "2.0\n",
      "2\n",
      "0\n",
      "100000\n"
     ]
    }
   ],
   "source": [
    "#Arithmetic Operations\n",
    "\n",
    "a=10\n",
    "b=5\n",
    "add_result=a+b\n",
    "sub_result=a-b\n",
    "multi_result=a*b\n",
    "division_resilt=a/b\n",
    "floor_div_results=a//b #floor division\n",
    "modulus_result=a%b\n",
    "exponential_result=a**b # a to the power b\n",
    "\n",
    "print(add_result)\n",
    "print(sub_result)\n",
    "print(multi_result)\n",
    "print(division_resilt)\n",
    "print(floor_div_results)\n",
    "print(modulus_result)\n",
    "print(exponential_result)\n"
   ]
  },
  {
   "cell_type": "code",
   "execution_count": 4,
   "id": "efe6f284",
   "metadata": {},
   "outputs": [
    {
     "data": {
      "text/plain": [
       "4"
      ]
     },
     "execution_count": 4,
     "metadata": {},
     "output_type": "execute_result"
    }
   ],
   "source": [
    "21//5\n"
   ]
  },
  {
   "cell_type": "code",
   "execution_count": null,
   "id": "8e967b5c",
   "metadata": {},
   "outputs": [
    {
     "data": {
      "text/plain": [
       "True"
      ]
     },
     "execution_count": 5,
     "metadata": {},
     "output_type": "execute_result"
    }
   ],
   "source": [
    "##comparison operators\n",
    "## == Equal to operators\n",
    "a=10\n",
    "b=10\n",
    "\n",
    "a==b\n"
   ]
  },
  {
   "cell_type": "code",
   "execution_count": 9,
   "id": "e84c60b7",
   "metadata": {},
   "outputs": [
    {
     "data": {
      "text/plain": [
       "False"
      ]
     },
     "execution_count": 9,
     "metadata": {},
     "output_type": "execute_result"
    }
   ],
   "source": [
    "##not equal to !=\n",
    "str1=\"Abhay\"\n",
    "str2=\"Abhay\"\n",
    "\n",
    "str1!=str2\n"
   ]
  },
  {
   "cell_type": "code",
   "execution_count": null,
   "id": "4f00a0d0",
   "metadata": {},
   "outputs": [
    {
     "data": {
      "text/plain": [
       "True"
      ]
     },
     "execution_count": 11,
     "metadata": {},
     "output_type": "execute_result"
    }
   ],
   "source": [
    "#greater than , less than\n",
    "\n",
    "a=45\n",
    "b=55\n",
    "a>b"
   ]
  },
  {
   "cell_type": "code",
   "execution_count": 15,
   "id": "eb3b742a",
   "metadata": {},
   "outputs": [
    {
     "name": "stdout",
     "output_type": "stream",
     "text": [
      "True\n"
     ]
    }
   ],
   "source": [
    "##Logical operators AND,NOT & OR\n",
    "##AND\n",
    "x=True\n",
    "y=True\n",
    "\n",
    "result= x and y\n",
    "\n",
    "print(result)\n",
    "\n",
    "\n"
   ]
  },
  {
   "cell_type": "code",
   "execution_count": 18,
   "id": "98c6946e",
   "metadata": {},
   "outputs": [
    {
     "name": "stdout",
     "output_type": "stream",
     "text": [
      "True\n"
     ]
    }
   ],
   "source": [
    "x=True\n",
    "y=True\n",
    "\n",
    "result= x or y\n",
    "\n",
    "print(result)"
   ]
  },
  {
   "cell_type": "code",
   "execution_count": null,
   "id": "dcfb37e2",
   "metadata": {},
   "outputs": [
    {
     "data": {
      "text/plain": [
       "False"
      ]
     },
     "execution_count": 19,
     "metadata": {},
     "output_type": "execute_result"
    }
   ],
   "source": [
    "#Not Operator\n",
    "\n",
    "x=True\n",
    "not x"
   ]
  },
  {
   "cell_type": "code",
   "execution_count": null,
   "id": "91d92dc8",
   "metadata": {},
   "outputs": [],
   "source": []
  }
 ],
 "metadata": {
  "kernelspec": {
   "display_name": "Python 3",
   "language": "python",
   "name": "python3"
  },
  "language_info": {
   "codemirror_mode": {
    "name": "ipython",
    "version": 3
   },
   "file_extension": ".py",
   "mimetype": "text/x-python",
   "name": "python",
   "nbconvert_exporter": "python",
   "pygments_lexer": "ipython3",
   "version": "3.12.0"
  }
 },
 "nbformat": 4,
 "nbformat_minor": 5
}
