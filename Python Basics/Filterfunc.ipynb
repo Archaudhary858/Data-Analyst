{
 "cells": [
  {
   "cell_type": "code",
   "execution_count": 1,
   "id": "a5fbaa41",
   "metadata": {},
   "outputs": [
    {
     "data": {
      "text/plain": [
       "True"
      ]
     },
     "execution_count": 1,
     "metadata": {},
     "output_type": "execute_result"
    }
   ],
   "source": [
    "def even(num):\n",
    "    if num%2==0:\n",
    "        return True\n",
    "even(24)"
   ]
  },
  {
   "cell_type": "code",
   "execution_count": 3,
   "id": "76ab8cf7",
   "metadata": {},
   "outputs": [
    {
     "data": {
      "text/plain": [
       "[2, 4, 6, 8, 10, 12]"
      ]
     },
     "execution_count": 3,
     "metadata": {},
     "output_type": "execute_result"
    }
   ],
   "source": [
    "lst = [1,2,3,4,5,6,7,8,9,10,11,12]\n",
    "\n",
    "list(filter(even,lst))\n",
    "\n",
    "\n"
   ]
  },
  {
   "cell_type": "code",
   "execution_count": 4,
   "id": "ae2b29d8",
   "metadata": {},
   "outputs": [
    {
     "name": "stdout",
     "output_type": "stream",
     "text": [
      "[6, 7, 8, 9]\n"
     ]
    }
   ],
   "source": [
    "#Filter with a lambda function\n",
    "numbers = [1,2,3,4,5,6,7,8,9]\n",
    "greater_tan_five = list(filter(lambda x:x>5,numbers))\n",
    "print(greater_tan_five)"
   ]
  },
  {
   "cell_type": "code",
   "execution_count": 5,
   "id": "bdab4e7f",
   "metadata": {},
   "outputs": [
    {
     "name": "stdout",
     "output_type": "stream",
     "text": [
      "[6, 8]\n"
     ]
    }
   ],
   "source": [
    "##Filter with a lambda fucntion and multiple condition\n",
    "numbers = [1,2,3,4,5,6,7,8,9]\n",
    "even_and_greater_then_five = list(filter(lambda x:x>5 and x%2==0,numbers))\n",
    "\n",
    "print(even_and_greater_then_five)\n",
    "\n",
    "\n"
   ]
  },
  {
   "cell_type": "code",
   "execution_count": 9,
   "id": "5fc5d0c6",
   "metadata": {},
   "outputs": [
    {
     "name": "stdout",
     "output_type": "stream",
     "text": [
      "[{'name': 'Abhay', 'age': 32}]\n"
     ]
    }
   ],
   "source": [
    "## Filter to check if the age is greater than 25 in dictionary\n",
    "\n",
    "people = [\n",
    "    {'name':'Abhay','age': 32},\n",
    "    {'name': 'Raj','age':21}\n",
    "]\n",
    "\n",
    "def age_greater_than(person):\n",
    "   return person['age']>25\n",
    "\n",
    "check_age = list(filter(age_greater_than,people))\n",
    "print(check_age)\n"
   ]
  },
  {
   "cell_type": "code",
   "execution_count": null,
   "id": "a92eb365",
   "metadata": {},
   "outputs": [],
   "source": []
  }
 ],
 "metadata": {
  "kernelspec": {
   "display_name": "Python 3",
   "language": "python",
   "name": "python3"
  },
  "language_info": {
   "codemirror_mode": {
    "name": "ipython",
    "version": 3
   },
   "file_extension": ".py",
   "mimetype": "text/x-python",
   "name": "python",
   "nbconvert_exporter": "python",
   "pygments_lexer": "ipython3",
   "version": "3.12.0"
  }
 },
 "nbformat": 4,
 "nbformat_minor": 5
}
